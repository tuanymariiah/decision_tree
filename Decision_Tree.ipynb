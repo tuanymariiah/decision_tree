{
  "nbformat": 4,
  "nbformat_minor": 0,
  "metadata": {
    "colab": {
      "name": "Decision-Tree.ipynb",
      "provenance": [],
      "authorship_tag": "ABX9TyOkSumj44WoZWEm9DJBI/8u",
      "include_colab_link": true
    },
    "kernelspec": {
      "name": "python3",
      "display_name": "Python 3"
    },
    "language_info": {
      "name": "python"
    }
  },
  "cells": [
    {
      "cell_type": "markdown",
      "metadata": {
        "id": "view-in-github",
        "colab_type": "text"
      },
      "source": [
        "<a href=\"https://colab.research.google.com/github/tuanymariiah/decision_tree/blob/main/Decision_Tree.ipynb\" target=\"_parent\"><img src=\"https://colab.research.google.com/assets/colab-badge.svg\" alt=\"Open In Colab\"/></a>"
      ]
    },
    {
      "cell_type": "markdown",
      "metadata": {
        "id": "QcrDGkLIrNnV"
      },
      "source": [
        "Implementação do modelo de árvore de decisão do zero"
      ]
    },
    {
      "cell_type": "code",
      "metadata": {
        "id": "zl6mLHJtrILI"
      },
      "source": [
        "# importacao das bibliotecas as serem utilizadas\n",
        "import numpy as np\n",
        "import pandas as pd\n",
        "from sklearn.datasets import load_iris"
      ],
      "execution_count": null,
      "outputs": []
    },
    {
      "cell_type": "code",
      "metadata": {
        "colab": {
          "base_uri": "https://localhost:8080/",
          "height": 35
        },
        "id": "wvM9ReTgrtwK",
        "outputId": "f30cbe8b-88b0-4d17-d447-b197ca736237"
      },
      "source": [
        "def carrega_base(base='iris'):\n",
        "  if base=='iris':\n",
        "    base = load_iris()\n",
        "    X = base.data\n",
        "    y = base.target\n",
        "    target_names = base.target_names\n",
        "    return X, y, target_names\n",
        "\n",
        "'''\n",
        "talvez seja necessario converter para array utilizando a funcao np.array()\n",
        "'''"
      ],
      "execution_count": null,
      "outputs": [
        {
          "output_type": "execute_result",
          "data": {
            "application/vnd.google.colaboratory.intrinsic+json": {
              "type": "string"
            },
            "text/plain": [
              "'\\ntalvez seja necessario converter para array utilizando a funcao np.array()\\n'"
            ]
          },
          "metadata": {},
          "execution_count": 2
        }
      ]
    },
    {
      "cell_type": "code",
      "metadata": {
        "id": "zO1T01XCsWhS"
      },
      "source": [
        "X, y, target_names = carrega_base()"
      ],
      "execution_count": null,
      "outputs": []
    },
    {
      "cell_type": "markdown",
      "metadata": {
        "id": "mHNqf7T_suj0"
      },
      "source": [
        "## Implementação do Modelo"
      ]
    }
  ]
}